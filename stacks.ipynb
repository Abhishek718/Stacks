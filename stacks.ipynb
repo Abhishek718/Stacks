{
 "cells": [
  {
   "cell_type": "markdown",
   "metadata": {},
   "source": [
    "# Simple Array Implementation"
   ]
  },
  {
   "cell_type": "code",
   "execution_count": 1,
   "metadata": {},
   "outputs": [
    {
     "name": "stdout",
     "output_type": "stream",
     "text": [
      "['!']\n",
      "['!', '2']\n",
      "['!', '2', '14']\n",
      "['!', '2', '14', '3J']\n",
      "['!', '2', '14', '3J', '19']\n",
      "stack overflow\n",
      "stack overflow\n",
      "stack overflow\n",
      "19\n",
      "['!', '2', '14', '3J']\n",
      "3J\n",
      "['!', '2', '14']\n",
      "False\n",
      "3\n"
     ]
    }
   ],
   "source": [
    "class stack(object):\n",
    "    def __init__(self,limit):\n",
    "        self.stk = []\n",
    "        self.limit = 5\n",
    "    def isempty(self):\n",
    "        return print(len(self.stk)<=0)\n",
    "    def length(self):\n",
    "        return print(len(self.stk))\n",
    "    def push(self,item):\n",
    "        if len(self.stk) >= self.limit:\n",
    "            return print(\"stack overflow\")\n",
    "        else:\n",
    "            self.stk.append(item)\n",
    "            print(self.stk)\n",
    "    def pop(self):\n",
    "        if len(self.stk) <= 0:\n",
    "            return print(\"stack underflow\")\n",
    "        else:\n",
    "            self.stk.pop()\n",
    "            print(self.stk)\n",
    "    def top(self):\n",
    "        if len(self.stk) <= 0:\n",
    "            print(\"stack underflow\")\n",
    "        else:\n",
    "            return print(self.stk[-1])\n",
    "\n",
    "ourstack = stack(5)\n",
    "ourstack.push(\"!\")\n",
    "ourstack.push(\"2\")\n",
    "ourstack.push(\"14\")\n",
    "ourstack.push(\"3J\")\n",
    "ourstack.push(\"19\")\n",
    "ourstack.push(\"3\")\n",
    "ourstack.push(\"99\")\n",
    "ourstack.push(\"9\")\n",
    "ourstack.top()\n",
    "ourstack.pop()\n",
    "ourstack.top()\n",
    "ourstack.pop()\n",
    "ourstack.isempty()\n",
    "ourstack.length()"
   ]
  },
  {
   "cell_type": "markdown",
   "metadata": {},
   "source": [
    "# Dynamic Array Implementation"
   ]
  },
  {
   "cell_type": "code",
   "execution_count": 2,
   "metadata": {},
   "outputs": [
    {
     "name": "stdout",
     "output_type": "stream",
     "text": [
      "['J']\n",
      "['J', '21']\n",
      "['J', '21', ' 14']\n",
      "['J', '21', ' 14', ' I I']\n",
      "['J', '21', ' 14', ' I I', '31 ']\n",
      "['J', '21', ' 14', ' I I', '31 ', ' 14']\n",
      "['J', '21', ' 14', ' I I', '31 ', ' 14', ' 15']\n",
      "['J', '21', ' 14', ' I I', '31 ', ' 14', ' 15', ' 19']\n",
      "['J', '21', ' 14', ' I I', '31 ', ' 14', ' 15', ' 19', '3']\n",
      "3\n",
      "['J', '21', ' 14', ' I I', '31 ', ' 14', ' 15', ' 19']\n",
      " 19\n",
      "['J', '21', ' 14', ' I I', '31 ', ' 14', ' 15']\n"
     ]
    }
   ],
   "source": [
    "class stack(object):\n",
    "    def __init__(self,limit = 10):\n",
    "        self.stk = limit*[]\n",
    "        self.limit = limit\n",
    "        \n",
    "    def isempty(self):\n",
    "        return print(len(self.stk)<=0)\n",
    "    \n",
    "    def length(self):\n",
    "        return print(len(self.stk))\n",
    "    \n",
    "    def push(self,item):\n",
    "        if len(self.stk) >= self.limit:\n",
    "            self.resize()\n",
    "            self.stk.append(item)\n",
    "            print(self.stk)\n",
    "        else:\n",
    "            self.stk.append(item)\n",
    "            print(self.stk)\n",
    "    \n",
    "    def pop(self):\n",
    "        if len(self.stk) <= 0:\n",
    "            return print(\"stack underflow\")\n",
    "        else:\n",
    "            self.stk.pop()\n",
    "            print(self.stk)\n",
    "            \n",
    "    def top(self):\n",
    "        if len(self.stk) <= 0:\n",
    "            print(\"stack underflow\")\n",
    "        else:\n",
    "            return print(self.stk[-1])\n",
    "        \n",
    "    def resize(self):\n",
    "        newstk = list(self.stk)\n",
    "        self.limit = 2*self.limit\n",
    "        self.stk = newstk\n",
    "        \n",
    "        \n",
    "ourstack = stack(5)\n",
    "ourstack.push(\"J\")\n",
    "ourstack.push(\"21\")\n",
    "ourstack.push(\" 14\")\n",
    "ourstack.push(\" I I\")\n",
    "ourstack.push(\"31 \")\n",
    "ourstack.push(\" 14\")\n",
    "ourstack.push(\" 15\")\n",
    "ourstack. push(\" 19\")\n",
    "ourstack.push(\"3\")\n",
    "# ourstack.push(\"99\")\n",
    "# ourstack.push(\"9\")\n",
    "ourstack.top()\n",
    "ourstack.pop()\n",
    "ourstack.top()\n",
    "ourstack.pop()"
   ]
  }
 ],
 "metadata": {
  "kernelspec": {
   "display_name": "Python 3",
   "language": "python",
   "name": "python3"
  },
  "language_info": {
   "codemirror_mode": {
    "name": "ipython",
    "version": 3
   },
   "file_extension": ".py",
   "mimetype": "text/x-python",
   "name": "python",
   "nbconvert_exporter": "python",
   "pygments_lexer": "ipython3",
   "version": "3.7.2"
  }
 },
 "nbformat": 4,
 "nbformat_minor": 2
}
